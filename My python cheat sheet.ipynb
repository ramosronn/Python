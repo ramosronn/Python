{
 "cells": [
  {
   "cell_type": "markdown",
   "id": "480a9b2d",
   "metadata": {},
   "source": [
    "# My python cheat sheet"
   ]
  },
  {
   "cell_type": "markdown",
   "id": "94ff889e",
   "metadata": {},
   "source": [
    "### Basic input output"
   ]
  },
  {
   "cell_type": "code",
   "execution_count": null,
   "id": "e6d96efc",
   "metadata": {},
   "outputs": [],
   "source": [
    "# Taking input from the user\n",
    "user_name = input(\"Enter your name: \")\n",
    "age = input(\"Enter your age: \")\n",
    "\n",
    "# Printing multiple values\n",
    "print(\"Your age is\", age, \"and your name is\", user_name + \"!\")\n",
    "\n",
    "# Simple output\n",
    "print(\"Welcome to Python programming!\")"
   ]
  },
  {
   "cell_type": "markdown",
   "id": "94aade68",
   "metadata": {},
   "source": [
    "### Data type checking\n"
   ]
  },
  {
   "cell_type": "code",
   "execution_count": null,
   "id": "eb79af2d",
   "metadata": {},
   "outputs": [],
   "source": [
    "balance = 1000.0\n",
    "\n",
    "print(type(balance))  # Check the Data type"
   ]
  },
  {
   "cell_type": "markdown",
   "id": "7d18b5cc",
   "metadata": {},
   "source": [
    "### Data type conversion"
   ]
  },
  {
   "cell_type": "code",
   "execution_count": null,
   "id": "fbc7663b",
   "metadata": {},
   "outputs": [],
   "source": [
    "## you can change the data type of a value with int(), float() and str()\n",
    "\n",
    "age = \"25\"\n",
    "age = int(age)  # Change age to an integer\n",
    "print(type(age))  # Check the Data type\n",
    "\n",
    "height = 5.9\n",
    "height = str(height)  # Change height to a string\n",
    "print(type(height))  # Check the Data type"
   ]
  },
  {
   "cell_type": "markdown",
   "id": "94e988d3",
   "metadata": {},
   "source": [
    "### For loop\n"
   ]
  },
  {
   "cell_type": "code",
   "execution_count": null,
   "id": "615c931c",
   "metadata": {},
   "outputs": [],
   "source": [
    "for i in range(5):  # Loop from 0 to 4\n",
    "    print(f\"Iteration {i}\") "
   ]
  },
  {
   "cell_type": "markdown",
   "id": "8f841dd5",
   "metadata": {},
   "source": [
    "### While loop"
   ]
  },
  {
   "cell_type": "code",
   "execution_count": null,
   "id": "825a78d8",
   "metadata": {},
   "outputs": [],
   "source": [
    "count = 1\n",
    "while count <= 5:\n",
    "    print(f\"Count is {count}\")\n",
    "    count += 1"
   ]
  },
  {
   "cell_type": "markdown",
   "id": "05882046",
   "metadata": {},
   "source": [
    "### Conditional statements\n"
   ]
  },
  {
   "cell_type": "code",
   "execution_count": null,
   "id": "77a8eeef",
   "metadata": {},
   "outputs": [],
   "source": [
    "num = 5\n",
    "\n",
    "if num > 0:\n",
    "    print(\"Number is positive\")\n",
    "elif num == 0:\n",
    "    print(\"Number is zero\")\n",
    "else:\n",
    "    print(\"Number is negative\")"
   ]
  },
  {
   "cell_type": "markdown",
   "id": "73ab80c7",
   "metadata": {},
   "source": [
    "### Lists and slicing"
   ]
  },
  {
   "cell_type": "code",
   "execution_count": null,
   "id": "87fafe99",
   "metadata": {},
   "outputs": [],
   "source": [
    "numbers = [10, 20, 30, 40, 50]\n",
    "\n",
    "# Accessing elements\n",
    "print(numbers[0])    # First element: 10\n",
    "print(numbers[-1])   # Last element: 50\n",
    "\n",
    "# Slicing\n",
    "print(numbers[1:4])  # Elements from index 1 to 3: [20, 30, 40]\n",
    "print(numbers[:3])   # First three elements: [10, 20, 30]\n",
    "print(numbers[2:])   # Elements from index 2 to end: [30, 40, 50]\n",
    "print(numbers[:])    # All elements: [10, 20, 30, 40, 50]\n",
    "\n",
    "# Slicing with negative indices\n",
    "print(numbers[-3:])   # Last three elements: [30, 40, 50]\n",
    "print(numbers[:-2])   # All except last two: [10, 20, 30]\n",
    "print(numbers[-4:-1]) # From index -4 to -2: [20, 30, 40]"
   ]
  }
 ],
 "metadata": {
  "kernelspec": {
   "display_name": "Python 3",
   "language": "python",
   "name": "python3"
  },
  "language_info": {
   "codemirror_mode": {
    "name": "ipython",
    "version": 3
   },
   "file_extension": ".py",
   "mimetype": "text/x-python",
   "name": "python",
   "nbconvert_exporter": "python",
   "pygments_lexer": "ipython3",
   "version": "3.11.4"
  }
 },
 "nbformat": 4,
 "nbformat_minor": 5
}
