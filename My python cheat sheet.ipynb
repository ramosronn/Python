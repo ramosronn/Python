{
 "cells": [
  {
   "cell_type": "markdown",
   "id": "480a9b2d",
   "metadata": {},
   "source": [
    "# My python cheat sheet"
   ]
  },
  {
   "cell_type": "markdown",
   "id": "94ff889e",
   "metadata": {},
   "source": [
    "### Basic input output"
   ]
  },
  {
   "cell_type": "code",
   "execution_count": null,
   "id": "e6d96efc",
   "metadata": {},
   "outputs": [],
   "source": [
    "# Taking input from the user\n",
    "user_name = input(\"Enter your name: \")\n",
    "age = input(\"Enter your age: \")\n",
    "\n",
    "# Printing multiple values\n",
    "print(\"Your age is\", age, \"and your name is\", user_name + \"!\")\n",
    "\n",
    "# Simple output\n",
    "print(\"Welcome to Python programming!\")"
   ]
  },
  {
   "cell_type": "markdown",
   "id": "94aade68",
   "metadata": {},
   "source": [
    "### Data type checking\n"
   ]
  },
  {
   "cell_type": "code",
   "execution_count": null,
   "id": "eb79af2d",
   "metadata": {},
   "outputs": [],
   "source": [
    "balance = 1000.0\n",
    "\n",
    "print(type(balance))  # Check the Data type"
   ]
  },
  {
   "cell_type": "markdown",
   "id": "7d18b5cc",
   "metadata": {},
   "source": [
    "### Data type conversion"
   ]
  },
  {
   "cell_type": "code",
   "execution_count": null,
   "id": "fbc7663b",
   "metadata": {},
   "outputs": [],
   "source": [
    "## you can change the data type of a value with int(), float() and str()\n",
    "\n",
    "age = \"25\"\n",
    "age = int(age)  # Change age to an integer\n",
    "print(type(age))  # Check the Data type\n",
    "\n",
    "height = 5.9\n",
    "height = str(height)  # Change height to a string\n",
    "print(type(height))  # Check the Data type"
   ]
  },
  {
   "cell_type": "markdown",
   "id": "94e988d3",
   "metadata": {},
   "source": [
    "### For loop\n"
   ]
  },
  {
   "cell_type": "code",
   "execution_count": null,
   "id": "615c931c",
   "metadata": {},
   "outputs": [],
   "source": [
    "for i in range(5):  # Loop from 0 to 4\n",
    "    print(f\"Iteration {i}\") "
   ]
  },
  {
   "cell_type": "markdown",
   "id": "8f841dd5",
   "metadata": {},
   "source": [
    "### While loop"
   ]
  },
  {
   "cell_type": "code",
   "execution_count": null,
   "id": "825a78d8",
   "metadata": {},
   "outputs": [],
   "source": [
    "count = 1\n",
    "while count <= 5:\n",
    "    print(f\"Count is {count}\")\n",
    "    count += 1"
   ]
  },
  {
   "cell_type": "markdown",
   "id": "05882046",
   "metadata": {},
   "source": [
    "### Conditional statements\n"
   ]
  },
  {
   "cell_type": "code",
   "execution_count": null,
   "id": "77a8eeef",
   "metadata": {},
   "outputs": [],
   "source": [
    "num = 5\n",
    "\n",
    "if num > 0:\n",
    "    print(\"Number is positive\")\n",
    "elif num == 0:\n",
    "    print(\"Number is zero\")\n",
    "else:\n",
    "    print(\"Number is negative\")"
   ]
  },
  {
   "cell_type": "markdown",
   "id": "73ab80c7",
   "metadata": {},
   "source": [
    "### Lists and slicing"
   ]
  },
  {
   "cell_type": "code",
   "execution_count": null,
   "id": "87fafe99",
   "metadata": {},
   "outputs": [],
   "source": [
    "numbers = [10, 20, 30, 40, 50]\n",
    "\n",
    "# Accessing elements\n",
    "print(numbers[0])    # First element: 10\n",
    "print(numbers[-1])   # Last element: 50\n",
    "\n",
    "# Slicing\n",
    "print(numbers[1:4])  # Elements from index 1 to 3: [20, 30, 40]\n",
    "print(numbers[:3])   # First three elements: [10, 20, 30]\n",
    "print(numbers[2:])   # Elements from index 2 to end: [30, 40, 50]\n",
    "print(numbers[:])    # All elements: [10, 20, 30, 40, 50]\n",
    "\n",
    "# Slicing with negative indices\n",
    "print(numbers[-3:])   # Last three elements: [30, 40, 50]\n",
    "print(numbers[:-2])   # All except last two: [10, 20, 30]\n",
    "print(numbers[-4:-1]) # From index -4 to -2: [20, 30, 40]\n",
    "\n",
    "# Appending an element\n",
    "numbers.append(4)  # my_list becomes [1, 2, 3, 4]\n",
    "print(numbers)\n",
    "# Removing an element\n",
    "numbers.remove(4)  # my_list becomes [1, 3, 4]  \n",
    "print(numbers)\n",
    "# Inserting an element at a specific position\n",
    "numbers.insert(1, 2)  # my_list becomes [1, 2, 3, 4]\n",
    "print(numbers)"
   ]
  },
  {
   "cell_type": "markdown",
   "id": "2c1f2f92",
   "metadata": {},
   "source": [
    "### List comprehensions\n",
    "\n"
   ]
  },
  {
   "cell_type": "code",
   "execution_count": null,
   "id": "0a60ec66",
   "metadata": {},
   "outputs": [],
   "source": [
    "# <variable> = [<expression> for <item> in <iterable> if <condition>]\n",
    "# <variable>: the variable that will store the newly created list\n",
    "# <expression>: an expression performed on each item. If no specific action is needed, the item itself is used\n",
    "# <item>: the current item being processed\n",
    "# <iterable>: any iterable object, such as ranges, lists, strings, tuples, and sets\n",
    "# <condition>: an optional condition that filters items from the iterable. If the condition is true, the item is included in the new list\n",
    "\n",
    "# List comprehensions are a concise way to create lists in Python.\n",
    "nums = [x for x in range(1,11)] \n",
    "print(nums) \n",
    "nums2 = [x*2 for x in range(1,11)]\n",
    "print(nums2)\n",
    "\n",
    "# Concatenating strings with list comprehension\n",
    "tags = [\"travel\", \"vacation\", \"journey\"]\n",
    "hashtags = [\"#\" + x for x in tags]\n",
    "print(hashtags)  # Output: ['#travel', '#vacation', '#journey']\n",
    "\n",
    "# Filtering a list using list comprehension\n",
    "users = [\"Brandon\", \"Emma\", \"Brian\", \"Sophia\", \"Bella\", \"Ethan\", \"Ava\", \"Benjamin\", \"Mia\", \"Chloe\"]\n",
    "group = [x for x in users if x[0] == \"B\"]\n",
    "\n",
    "print(group)"
   ]
  },
  {
   "cell_type": "markdown",
   "id": "14253df3",
   "metadata": {},
   "source": [
    "### Tuples\n"
   ]
  },
  {
   "cell_type": "code",
   "execution_count": null,
   "id": "140a1ab6",
   "metadata": {},
   "outputs": [],
   "source": [
    "# ### Tuples\n",
    "\n",
    "# - Tuples are like lists, but **immutable** (cannot be changed after creation).\n",
    "# - Use parentheses `()` to define a tuple.\n",
    "# Creating a tuple\n",
    "my_tuple = (1, 2, 3, 4)\n",
    "\n",
    "# Accessing elements\n",
    "print(my_tuple[0])    # Output: 1\n",
    "\n",
    "# Slicing\n",
    "print(my_tuple[1:3])  # Output: (2, 3)\n",
    "\n",
    "# Tuple with one element (note the comma)\n",
    "single = (5,)\n",
    "print(type(single))   # Output: <class 'tuple'>\n",
    "\n",
    "# Tuple unpacking\n",
    "a, b, c, d = my_tuple\n",
    "print(a, d)           # Output: 1 4\n",
    "\n",
    "# Tuples can contain different data types\n",
    "mixed = (10, \"hello\", 3.14)\n",
    "print(mixed)"
   ]
  },
  {
   "cell_type": "markdown",
   "id": "f4b80c52",
   "metadata": {},
   "source": [
    "### Sets\n"
   ]
  },
  {
   "cell_type": "code",
   "execution_count": null,
   "id": "e87598ce",
   "metadata": {},
   "outputs": [],
   "source": [
    "# Sets examples and common methods\n",
    "# Sets are unordered collections of unique elements.   \n",
    "# Sets are mutable, meaning you can add or remove elements after creation, but they do not allow duplicate values.\n",
    "\n",
    "# Creating a set\n",
    "fruits = {\"apple\", \"banana\", \"cherry\"}\n",
    "print(fruits)  # Output: {'apple', 'banana', 'cherry'}\n",
    "\n",
    "# .add() - Add an element\n",
    "fruits.add(\"orange\")\n",
    "print(fruits)  # Output: {'apple', 'banana', 'cherry', 'orange'}\n",
    "\n",
    "# .remove() - Remove an element (raises error if not found)\n",
    "fruits.remove(\"banana\")\n",
    "print(fruits)  # Output: {'apple', 'cherry', 'orange'}\n",
    "\n",
    "# .clear() - Remove all elements\n",
    "fruits.clear()\n",
    "print(fruits)  # Output: set()\n",
    "\n",
    "# .union() - Combine two sets (returns a new set)\n",
    "set1 = {1, 2, 3}\n",
    "set2 = {3, 4, 5}\n",
    "union_set = set1.union(set2)\n",
    "print(union_set)  # Output: {1, 2, 3, 4, 5}\n",
    "\n",
    "# .difference() - Elements in set1 but not in set2\n",
    "diff_set = set1.difference(set2)\n",
    "print(diff_set)  # Output: {1, 2}"
   ]
  },
  {
   "cell_type": "markdown",
   "id": "2c86061f",
   "metadata": {},
   "source": [
    "### Key-value pairs through dictionaries"
   ]
  },
  {
   "cell_type": "code",
   "execution_count": null,
   "id": "00a2e0f3",
   "metadata": {},
   "outputs": [],
   "source": [
    "# Dictionaries examples and common methods\n",
    "\n",
    "# Creating a dictionary\n",
    "person = {\n",
    "    \"name\": \"Alice\",\n",
    "    \"age\": 25,\n",
    "    \"city\": \"New York\"\n",
    "}\n",
    "print(person)  # Output: {'name': 'Alice', 'age': 25, 'city': 'New York'}\n",
    "\n",
    "# Accessing a value by key\n",
    "print(person[\"name\"])  # Output: Alice\n",
    "\n",
    "# Adding a new key-value pair\n",
    "person[\"email\"] = \"alice@example.com\"\n",
    "print(person)\n",
    "\n",
    "# Updating a value\n",
    "person.update({\"age\": 30, \"surname\": \"Smith\"})\n",
    "print(person)\n",
    "\n",
    "# Removing a key-value pair\n",
    "person.pop(\"city\")\n",
    "print(person)\n",
    "\n",
    "# Checking if a key exists\n",
    "print(\"email\" in person)  # Output: True\n",
    "print(\"Color\" in person)  # Output: False\n",
    "\n",
    "print(\"name\" in person.values())  # Check if 'email' is a value in the dictionary\n",
    "print(\"Alice\" in person.values()) \n",
    "\n",
    "# Getting all keys and values\n",
    "print(person.keys())    # Output: dict_keys(['name', 'age', 'email'])\n",
    "print(person.values())  # Output: dict_values(['Alice', 26, 'alice@example.com'])\n",
    "\n",
    "# Looping through dictionary\n",
    "for key, value in person.items():\n",
    "    print(key, value)"
   ]
  }
 ],
 "metadata": {
  "kernelspec": {
   "display_name": "Python 3",
   "language": "python",
   "name": "python3"
  },
  "language_info": {
   "codemirror_mode": {
    "name": "ipython",
    "version": 3
   },
   "file_extension": ".py",
   "mimetype": "text/x-python",
   "name": "python",
   "nbconvert_exporter": "python",
   "pygments_lexer": "ipython3",
   "version": "3.11.4"
  }
 },
 "nbformat": 4,
 "nbformat_minor": 5
}
